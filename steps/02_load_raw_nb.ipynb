{
 "cells": [
  {
   "cell_type": "code",
   "execution_count": 15,
   "metadata": {},
   "outputs": [],
   "source": [
    "import time\n",
    "from snowflake.snowpark import Session\n",
    "#import snowflake.snowpark.types as T\n",
    "#import snowflake.snowpark.functions as F"
   ]
  },
  {
   "cell_type": "code",
   "execution_count": 16,
   "metadata": {},
   "outputs": [],
   "source": [
    "POS_TABLES = ['country', 'franchise', 'location', 'menu', 'truck', 'order_header', 'order_detail']\n",
    "CUSTOMER_TABLES = ['customer_loyalty']\n",
    "TABLE_DICT = {\n",
    "    \"pos\": {\"schema\": \"RAW_POS\", \"tables\": POS_TABLES},\n",
    "    \"customer\": {\"schema\": \"RAW_CUSTOMER\", \"tables\": CUSTOMER_TABLES}\n",
    "}\n",
    "\n",
    "# SNOWFLAKE ADVANTAGE: Schema detection\n",
    "# SNOWFLAKE ADVANTAGE: Data ingestion with COPY\n",
    "# SNOWFLAKE ADVANTAGE: Snowflake Tables (not file-based)"
   ]
  },
  {
   "cell_type": "code",
   "execution_count": 17,
   "metadata": {},
   "outputs": [],
   "source": [
    "def load_raw_table(session, tname=None, s3dir=None, year=None, schema=None):\n",
    "    session.use_schema(schema)\n",
    "    if year is None:\n",
    "        location = \"@external.frostbyte_raw_stage/{}/{}\".format(s3dir, tname)\n",
    "    else:\n",
    "        print('\\tLoading year {}'.format(year)) \n",
    "        location = \"@external.frostbyte_raw_stage/{}/{}/year={}\".format(s3dir, tname, year)\n",
    "    \n",
    "    # we can infer schema using the parquet read option\n",
    "    df = session.read.option(\"compression\", \"snappy\") \\\n",
    "                            .parquet(location)\n",
    "    df.copy_into_table(\"{}\".format(tname))"
   ]
  },
  {
   "cell_type": "code",
   "execution_count": 18,
   "metadata": {},
   "outputs": [],
   "source": [
    "# SNOWFLAKE ADVANTAGE: Warehouse elasticity (dynamic scaling)\n",
    "\n",
    "def load_all_raw_tables(session):\n",
    "    _ = session.sql(\"ALTER WAREHOUSE HOL_WH SET WAREHOUSE_SIZE = XLARGE WAIT_FOR_COMPLETION = TRUE\").collect()\n",
    "\n",
    "    for s3dir, data in TABLE_DICT.items():\n",
    "        tnames = data['tables']\n",
    "        schema = data['schema']\n",
    "        for tname in tnames:\n",
    "            print(\"Loading {}\".format(tname))\n",
    "            # Only load the first 3 years of data for the order tables at this point\n",
    "            # We will load the 2022 data later in the lab\n",
    "            if tname in ['order_header', 'order_detail']:\n",
    "                for year in ['2019', '2020', '2021']:\n",
    "                    load_raw_table(session, tname=tname, s3dir=s3dir, year=year, schema=schema)\n",
    "            else:\n",
    "                load_raw_table(session, tname=tname, s3dir=s3dir, schema=schema)\n",
    "\n",
    "    _ = session.sql(\"ALTER WAREHOUSE HOL_WH SET WAREHOUSE_SIZE = XSMALL\").collect()\n"
   ]
  },
  {
   "cell_type": "code",
   "execution_count": 19,
   "metadata": {},
   "outputs": [],
   "source": [
    "def validate_raw_tables(session):\n",
    "    # check column names from the inferred schema\n",
    "    for tname in POS_TABLES:\n",
    "        print('{}: \\n\\t{}\\n'.format(tname, session.table('RAW_POS.{}'.format(tname)).columns))\n",
    "\n",
    "    for tname in CUSTOMER_TABLES:\n",
    "        print('{}: \\n\\t{}\\n'.format(tname, session.table('RAW_CUSTOMER.{}'.format(tname)).columns))\n",
    "\n"
   ]
  },
  {
   "cell_type": "code",
   "execution_count": 20,
   "metadata": {},
   "outputs": [
    {
     "name": "stdout",
     "output_type": "stream",
     "text": [
      "Loading country\n",
      "Loading franchise\n",
      "Loading location\n",
      "Loading menu\n",
      "Loading truck\n",
      "Loading order_header\n",
      "\tLoading year 2019\n",
      "\tLoading year 2020\n",
      "\tLoading year 2021\n",
      "Loading order_detail\n",
      "\tLoading year 2019\n",
      "\tLoading year 2020\n",
      "\tLoading year 2021\n",
      "Loading customer_loyalty\n"
     ]
    }
   ],
   "source": [
    "# For local debugging\n",
    "if __name__ == \"__main__\":\n",
    "    # Add the utils package to our path and import the snowpark_utils function\n",
    "    import os, sys\n",
    "    current_dir = os.getcwd()\n",
    "    parent_dir = os.path.dirname(current_dir)\n",
    "    sys.path.append(parent_dir)\n",
    "\n",
    "    from utils import snowpark_utils\n",
    "    session = snowpark_utils.get_snowpark_session()\n",
    "\n",
    "    load_all_raw_tables(session)\n",
    "#    validate_raw_tables(session)\n",
    "\n",
    "    session.close()"
   ]
  },
  {
   "cell_type": "code",
   "execution_count": null,
   "metadata": {},
   "outputs": [],
   "source": []
  }
 ],
 "metadata": {
  "kernelspec": {
   "display_name": "snowpark-env",
   "language": "python",
   "name": "python3"
  },
  "language_info": {
   "codemirror_mode": {
    "name": "ipython",
    "version": 3
   },
   "file_extension": ".py",
   "mimetype": "text/x-python",
   "name": "python",
   "nbconvert_exporter": "python",
   "pygments_lexer": "ipython3",
   "version": "3.8.10"
  },
  "orig_nbformat": 4
 },
 "nbformat": 4,
 "nbformat_minor": 2
}
